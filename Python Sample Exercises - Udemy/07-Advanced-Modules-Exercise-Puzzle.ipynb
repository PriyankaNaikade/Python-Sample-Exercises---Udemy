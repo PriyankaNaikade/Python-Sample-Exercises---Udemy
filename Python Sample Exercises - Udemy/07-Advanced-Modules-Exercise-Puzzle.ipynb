{
 "cells": [
  {
   "cell_type": "markdown",
   "metadata": {},
   "source": [
    "___\n",
    "\n",
    "<a href='https://www.udemy.com/user/joseportilla/'><img src='../../Pierian_Data_Logo.png'/></a>\n",
    "___\n",
    "<center><em>Content Copyright by Pierian Data</em></center>"
   ]
  },
  {
   "cell_type": "markdown",
   "metadata": {},
   "source": [
    "# Advanced Modules Exercise Puzzle\n",
    "\n",
    "It's time to test your new skills, this puzzle project will combine multiple skills sets, including unzipping files with Python, using os module to automatically search through lots of files.\n",
    "\n",
    "## Your Goal\n",
    "\n",
    "This is a puzzle, so we don't want to give you too much guidance and instead have you figure out things on your own.\n",
    "\n",
    "There is a .zip file called 'unzip_me_for_instructions.zip', unzip it, open the .txt file with Python, read the instructions and see if you can figure out what you need to do!\n",
    "\n",
    "**If you get stuck or don't know where to start, here is a [guide/hints](https://docs.google.com/document/d/1JxydUr4n4fSR0EwwuwT-aHia-yPK6r-oTBuVT2sqheo/edit?usp=sharing)**"
   ]
  },
  {
   "cell_type": "code",
   "execution_count": 9,
   "metadata": {},
   "outputs": [],
   "source": [
    "import shutil\n",
    "import os\n",
    "\n",
    "zippedfile = '/home/priyanka/Python Udemy/unzip_me_for_instructions.zip'\n",
    "outdir = '/home/priyanka/Python Udemy/extracted_inst_folder'\n",
    "\n",
    "shutil.unpack_archive(extract_dir=outdir,filename=zippedfile,format='zip')"
   ]
  },
  {
   "cell_type": "code",
   "execution_count": 6,
   "metadata": {},
   "outputs": [
    {
     "data": {
      "text/plain": [
       "'/home/priyanka/Python Udemy'"
      ]
     },
     "execution_count": 6,
     "metadata": {},
     "output_type": "execute_result"
    }
   ],
   "source": [
    "os.getcwd()"
   ]
  },
  {
   "cell_type": "code",
   "execution_count": 17,
   "metadata": {},
   "outputs": [
    {
     "data": {
      "text/plain": [
       "['Five', 'Four', 'Instructions.txt', 'One', 'Three', 'Two']"
      ]
     },
     "execution_count": 17,
     "metadata": {},
     "output_type": "execute_result"
    }
   ],
   "source": [
    "os.listdir(outdir+'/extracted_content')"
   ]
  },
  {
   "cell_type": "code",
   "execution_count": 25,
   "metadata": {},
   "outputs": [
    {
     "name": "stdout",
     "output_type": "stream",
     "text": [
      "/home/priyanka/Python Udemy/extracted_inst_folder/extracted_content\n",
      "['Instructions.txt']\n",
      "/home/priyanka/Python Udemy/extracted_inst_folder/extracted_content/Five\n",
      "['AEITMYIRQLP.txt', 'APJKSRITGGX.txt', 'AQKATDFGXTS.txt', 'ARLKFCWIAJE.txt', 'AXJGVPVEFAS.txt', 'BNUQEHCFRTG.txt', 'BSKJDRNEZQM.txt', 'BTYWAHLHKBM.txt', 'BUGKBZWRRVI.txt', 'BVBURZZCAPR.txt', 'CAHBEVSVDDN.txt', 'COMGMZBJAYE.txt', 'CRFSDGYFSHA.txt', 'CSCLFZCDYYC.txt', 'CXBVCTRBBIE.txt', 'DDLASODUVPX.txt', 'DHZBAAYEADM.txt', 'DQPZQLBCJYP.txt', 'DYOPIIVMZOO.txt', 'DZUWWXYIAEL.txt', 'EAAOEPSAWMQ.txt', 'EIPWXMQZJKU.txt', 'ESIZWBHMGDP.txt', 'ETCUEXWNBCF.txt', 'EYTCGIOYWIW.txt']\n",
      "/home/priyanka/Python Udemy/extracted_inst_folder/extracted_content/Four\n",
      "['ECIOBYCDVFI.txt', 'EMTGPSXQEJX.txt', 'EPRNUHRSESC.txt', 'ESDIZXHYCVY.txt', 'EXVQSVBQQQH.txt', 'QCTCKDIBBVG.txt', 'QCWCFLKNZMN.txt', 'QDDETWBHJYC.txt', 'QTDYYIFPHAU.txt', 'QVNJULGXNUM.txt', 'REAXWSOIQDY.txt', 'ROICPTWKXDX.txt', 'RSXOTNGKBML.txt', 'RXDARIDGKBF.txt', 'RYNXFYXMKHG.txt', 'TAKNAVDMZKV.txt', 'THPNEGKTJWI.txt', 'TJFMLJODVAD.txt', 'TKCZSFQNJTX.txt', 'TWUOYFCCYBQ.txt', 'WFSKPTXPFCH.txt', 'WHTOHQUWXIN.txt', 'WNJISWPEBRS.txt', 'WXDJDOGZEHN.txt', 'WYDLGSGGXKV.txt']\n",
      "/home/priyanka/Python Udemy/extracted_inst_folder/extracted_content/One\n",
      "['HDOHZHFSTTK.txt', 'HFUTPPAXDIS.txt', 'HMNZTLIFGPD.txt', 'HRQFTHKVJTL.txt', 'HVUTZEVMSBW.txt', 'JDLRVFCXYLU.txt', 'JEHBLZPUPSP.txt', 'JLTXKIGCWDL.txt', 'JQUOBKFUACN.txt', 'JTHSNBNPQSE.txt', 'KCXGNQCZBLO.txt', 'KFIUZFERLET.txt', 'KMMLGJOWLGI.txt', 'KNBSKDREHQU.txt', 'KTXDHIOKAUI.txt', 'LDGOCUQJNNS.txt', 'LFEATJAAYDC.txt', 'LHODFIKVTQA.txt', 'LIFDHOFKWOI.txt', 'LPNDVDXPZIG.txt', 'PDJMSMNKIRM.txt', 'PHWAVPEKAER.txt', 'PLYCGPVEAWO.txt', 'PQNVCVJINAR.txt', 'PTOBBCJYURJ.txt']\n",
      "/home/priyanka/Python Udemy/extracted_inst_folder/extracted_content/Three\n",
      "['VAQIJTDOFUJ.txt', 'VCFJCGJFBIH.txt', 'VSXFSTABZDY.txt', 'VVHFVZUNLOO.txt', 'VVKGWLRMHLU.txt', 'XAJMCPEWFNI.txt', 'XFHJOTNPEJG.txt', 'XHZPVUQTXIO.txt', 'XJCWENFFGHB.txt', 'XVMPVSVYKFR.txt', 'YCESZHJDBXH.txt', 'YDQFMWXOUMW.txt', 'YQBIUHSUEVW.txt', 'YQRNCMNFFHW.txt', 'YYIZGBTQHZP.txt', 'ZEZKKRBIZEB.txt', 'ZKQJXAYKPVD.txt', 'ZOWVXWPOGWP.txt', 'ZXEZRQXZNPG.txt', 'ZXIBJMPROKW.txt']\n",
      "/home/priyanka/Python Udemy/extracted_inst_folder/extracted_content/Two\n",
      "['GKQBQRCTNNK.txt', 'GMMQQUBMJNR.txt', 'GQTJJORZBXY.txt', 'GTOTCIWMDBY.txt', 'GXYSEPAFRTP.txt', 'HARDNJGDRBC.txt', 'HEORIXOTANT.txt', 'HMUTDOVNYTV.txt', 'HMZXPBOPRAE.txt', 'HTOHSTYXTCO.txt', 'LCJZYDHBFRM.txt', 'LSQSTGPIGIY.txt', 'LULTNYAQEJG.txt', 'LVMBINRBJXL.txt', 'LYZEQCVYNEZ.txt', 'OHZOUOSFJQC.txt', 'OIHMLGMWTHL.txt', 'OKWFOOYTXFU.txt', 'OMWIMVRCMYM.txt', 'OYMAGXAGWHJ.txt', 'SIKFPPLCJDN.txt', 'SJMJLDGPBSJ.txt', 'SOFUJYXTIMK.txt', 'SPDZYGDHEWO.txt', 'SWOFXREEHWA.txt']\n"
     ]
    }
   ],
   "source": [
    "for folder, sub_folder, files in os.walk(outdir+'/extracted_content'):\n",
    "    print(folder)\n",
    "    #print(\"\\t\", sub_folder)\n",
    "    '''for f in sub_folder:\n",
    "        print(\"\\t f\")'''\n",
    "    \n",
    "    print(files)"
   ]
  },
  {
   "cell_type": "code",
   "execution_count": 23,
   "metadata": {},
   "outputs": [
    {
     "name": "stdout",
     "output_type": "stream",
     "text": [
      "Good work on unzipping the file!\n",
      "You should now see 5 folders, each with a lot of random .txt files.\n",
      "Within one of these text files is a telephone number formated ###-###-#### \n",
      "Use the Python os module and regular expressions to iterate through each file, open it, and search for a telephone number.\n",
      "Good luck!\n"
     ]
    }
   ],
   "source": [
    "with open(outdir+'/extracted_content/Instructions.txt', 'r') as f:\n",
    "    print(f.read())"
   ]
  },
  {
   "cell_type": "code",
   "execution_count": 42,
   "metadata": {},
   "outputs": [
    {
     "name": "stdout",
     "output_type": "stream",
     "text": [
      "Found in  EMTGPSXQEJX.txt from folder- /home/priyanka/Python Udemy/extracted_inst_folder/extracted_content/Four\n",
      "['EMTGPSXQEJX.txt']\n"
     ]
    }
   ],
   "source": [
    "import re\n",
    "filelist = []\n",
    "for folder,subfolder,file in os.walk(outdir+'/extracted_content/'):\n",
    "    pattern = r'\\d{3}-\\d{3}-\\d{4}'\n",
    "    for each_file in file:\n",
    "        with open(folder+'/'+each_file, 'r') as f:\n",
    "            if (re.findall(pattern,f.read())):\n",
    "                print(\"Found in \", each_file, \"from folder-\",folder)\n",
    "                filelist.append(each_file)\n",
    "            else:\n",
    "                pass\n",
    "\n",
    "print(filelist)    "
   ]
  },
  {
   "cell_type": "code",
   "execution_count": null,
   "metadata": {},
   "outputs": [],
   "source": []
  }
 ],
 "metadata": {
  "anaconda-cloud": {},
  "kernelspec": {
   "display_name": "Python 3",
   "language": "python",
   "name": "python3"
  },
  "language_info": {
   "codemirror_mode": {
    "name": "ipython",
    "version": 3
   },
   "file_extension": ".py",
   "mimetype": "text/x-python",
   "name": "python",
   "nbconvert_exporter": "python",
   "pygments_lexer": "ipython3",
   "version": "3.6.9"
  }
 },
 "nbformat": 4,
 "nbformat_minor": 2
}
