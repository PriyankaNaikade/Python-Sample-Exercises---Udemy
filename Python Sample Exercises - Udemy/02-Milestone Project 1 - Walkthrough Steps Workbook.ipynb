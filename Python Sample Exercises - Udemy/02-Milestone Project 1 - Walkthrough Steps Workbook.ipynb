{
 "cells": [
  {
   "cell_type": "markdown",
   "metadata": {},
   "source": [
    "___\n",
    "\n",
    "<a href='https://www.udemy.com/user/joseportilla/'><img src='../Pierian_Data_Logo.png'/></a>\n",
    "___\n",
    "<center><em>Content Copyright by Pierian Data</em></center>"
   ]
  },
  {
   "cell_type": "markdown",
   "metadata": {},
   "source": [
    "# Milestone Project 1: Walkthrough Steps Workbook\n",
    "\n",
    "Below is a set of steps for you to follow to try to create the Tic Tac Toe Milestone Project game!"
   ]
  },
  {
   "cell_type": "markdown",
   "metadata": {},
   "source": [
    "#### Some suggested tools before you get started:\n",
    "To take input from a user:\n",
    "\n",
    "    player1 = input(\"Please pick a marker 'X' or 'O'\")\n",
    "    \n",
    "Note that input() takes in a string. If you need an integer value, use\n",
    "\n",
    "    position = int(input('Please enter a number'))\n",
    "    \n",
    "<br>To clear the screen between moves:\n",
    "\n",
    "    from IPython.display import clear_output\n",
    "    clear_output()\n",
    "    \n",
    "Note that clear_output() will only work in jupyter. To clear the screen in other IDEs, consider:\n",
    "\n",
    "    print('\\n'*100)\n",
    "    \n",
    "This scrolls the previous board up out of view. Now on to the program!"
   ]
  },
  {
   "cell_type": "markdown",
   "metadata": {},
   "source": [
    "**Step 1: Write a function that can print out a board. Set up your board as a list, where each index 1-9 corresponds with a number on a number pad, so you get a 3 by 3 board representation.**"
   ]
  },
  {
   "cell_type": "code",
   "execution_count": 153,
   "metadata": {},
   "outputs": [
    {
     "name": "stdout",
     "output_type": "stream",
     "text": [
      "X | O | X\n",
      "---------\n",
      "O | X | O\n",
      "---------\n",
      "X | O | X\n"
     ]
    }
   ],
   "source": [
    "from IPython.display import clear_output\n",
    "\n",
    "def display_board(board):\n",
    "    \n",
    "    print(board[6] + ' | ' + board[7] + ' | ' + board[8])\n",
    "    print('---------')\n",
    "    print(board[3] + ' | ' + board[4] + ' | ' + board[5])\n",
    "    print('---------')\n",
    "    print(board[0] + ' | ' + board[1] + ' | ' + board[2])\n",
    "    \n",
    "    \n",
    "test_board = ['X','O','X','O','X','O','X','O','X']\n",
    "display_board(test_board)"
   ]
  },
  {
   "cell_type": "markdown",
   "metadata": {},
   "source": [
    "**TEST Step 1:** run your function on a test version of the board list, and make adjustments as necessary"
   ]
  },
  {
   "cell_type": "code",
   "execution_count": 154,
   "metadata": {},
   "outputs": [
    {
     "name": "stdout",
     "output_type": "stream",
     "text": [
      "X | O | X\n",
      "---------\n",
      "O | X | O\n",
      "---------\n",
      "X | O | X\n"
     ]
    }
   ],
   "source": [
    "test_board = ['X','O','X','O','X','O','X','O','X']\n",
    "display_board(test_board)"
   ]
  },
  {
   "cell_type": "markdown",
   "metadata": {},
   "source": [
    "**Step 2: Write a function that can take in a player input and assign their marker as 'X' or 'O'. Think about using *while* loops to continually ask until you get a correct answer.**"
   ]
  },
  {
   "cell_type": "code",
   "execution_count": 155,
   "metadata": {},
   "outputs": [],
   "source": [
    "def player_input():\n",
    "    marker = ''\n",
    "    #return tuple output\n",
    "    #(player1_marker, player2_marker)\n",
    "    while (marker not in ['X', 'O']):\n",
    "        marker = input(\"Player 1: Enter your marker 'X' or 'O' : \")\n",
    "        \n",
    "    if marker == 'X':\n",
    "        return ('X', 'O')\n",
    "    else:\n",
    "        return ('O', 'X')"
   ]
  },
  {
   "cell_type": "markdown",
   "metadata": {},
   "source": [
    "**TEST Step 2:** run the function to make sure it returns the desired output"
   ]
  },
  {
   "cell_type": "code",
   "execution_count": 129,
   "metadata": {},
   "outputs": [
    {
     "name": "stdout",
     "output_type": "stream",
     "text": [
      "Player 1: Enter your marker 'X' or 'O' : O\n"
     ]
    }
   ],
   "source": [
    "player1_marker, player2_marker = player_input()"
   ]
  },
  {
   "cell_type": "code",
   "execution_count": 130,
   "metadata": {},
   "outputs": [
    {
     "name": "stdout",
     "output_type": "stream",
     "text": [
      "O X\n"
     ]
    }
   ],
   "source": [
    "print(player1_marker, player2_marker)"
   ]
  },
  {
   "cell_type": "markdown",
   "metadata": {},
   "source": [
    "**Step 3: Write a function that takes in the board list object, a marker ('X' or 'O'), and a desired position (number 1-9) and assigns it to the board.**"
   ]
  },
  {
   "cell_type": "code",
   "execution_count": 156,
   "metadata": {},
   "outputs": [
    {
     "name": "stdout",
     "output_type": "stream",
     "text": [
      "X | $ | X\n",
      "---------\n",
      "O | X | O\n",
      "---------\n",
      "X | O | X\n"
     ]
    }
   ],
   "source": [
    "def place_marker(board, marker, position):\n",
    "    board[position-1]=marker                   \n",
    "                       \n",
    "place_marker(test_board,'$',8)\n",
    "display_board(test_board)"
   ]
  },
  {
   "cell_type": "markdown",
   "metadata": {},
   "source": [
    "**TEST Step 3:** run the place marker function using test parameters and display the modified board"
   ]
  },
  {
   "cell_type": "code",
   "execution_count": 143,
   "metadata": {},
   "outputs": [
    {
     "name": "stdout",
     "output_type": "stream",
     "text": [
      "X | X | X\n",
      "---------\n",
      "O | O | O\n",
      "---------\n",
      "X | O | X\n"
     ]
    }
   ],
   "source": [
    "place_marker(test_board,'X',8)\n",
    "display_board(test_board)"
   ]
  },
  {
   "cell_type": "markdown",
   "metadata": {},
   "source": [
    "**Step 4: Write a function that takes in a board and a mark (X or O) and then checks to see if that mark has won. **"
   ]
  },
  {
   "cell_type": "code",
   "execution_count": 157,
   "metadata": {},
   "outputs": [
    {
     "name": "stdout",
     "output_type": "stream",
     "text": [
      "X | $ | X\n",
      "---------\n",
      "O | X | O\n",
      "---------\n",
      "X | O | X\n",
      "O lost\n"
     ]
    },
    {
     "data": {
      "text/plain": [
       "False"
      ]
     },
     "execution_count": 157,
     "metadata": {},
     "output_type": "execute_result"
    }
   ],
   "source": [
    "def win_check(board, mark):\n",
    "    if (   (board[0]== mark and board[1]== mark and board[2]== mark)\n",
    "        or (board[3]== mark and board[4]== mark and board[5]== mark) \n",
    "        or (board[6]== mark and board[7]== mark and board[8]== mark)\n",
    "        or (board[0]== mark and board[3]== mark and board[6]== mark) \n",
    "        or (board[1]== mark and board[5]== mark and board[7]== mark) \n",
    "        or (board[2]== mark and board[5]== mark and board[8]== mark) \n",
    "        or (board[0]== mark and board[4]== mark and board[8]== mark) \n",
    "        or (board[2]== mark and board[4]== mark and board[6]== mark)):\n",
    "        print(f'{mark} has Won')\n",
    "        return True\n",
    "    else:\n",
    "        print(f'{mark} lost')\n",
    "        return False\n",
    "\n",
    "display_board(test_board)        \n",
    "win_check(test_board,'O')\n"
   ]
  },
  {
   "cell_type": "markdown",
   "metadata": {},
   "source": [
    "**TEST Step 4:** run the win_check function against our test_board - it should return True"
   ]
  },
  {
   "cell_type": "code",
   "execution_count": 158,
   "metadata": {},
   "outputs": [
    {
     "name": "stdout",
     "output_type": "stream",
     "text": [
      "X has Won\n"
     ]
    },
    {
     "data": {
      "text/plain": [
       "True"
      ]
     },
     "execution_count": 158,
     "metadata": {},
     "output_type": "execute_result"
    }
   ],
   "source": [
    "win_check(test_board,'X')"
   ]
  },
  {
   "cell_type": "markdown",
   "metadata": {},
   "source": [
    "**Step 5: Write a function that uses the random module to randomly decide which player goes first. You may want to lookup random.randint() Return a string of which player went first.**"
   ]
  },
  {
   "cell_type": "code",
   "execution_count": 159,
   "metadata": {},
   "outputs": [
    {
     "data": {
      "text/plain": [
       "'Player 1'"
      ]
     },
     "execution_count": 159,
     "metadata": {},
     "output_type": "execute_result"
    }
   ],
   "source": [
    "import random\n",
    "\n",
    "def choose_first():    \n",
    "    if (random.randint(1,2)==1):\n",
    "        return 'Player 1'\n",
    "    else:\n",
    "        return 'Player 2'\n",
    "\n",
    "    \n",
    "choose_first()"
   ]
  },
  {
   "cell_type": "markdown",
   "metadata": {},
   "source": [
    "**Step 6: Write a function that returns a boolean indicating whether a space on the board is freely available.**"
   ]
  },
  {
   "cell_type": "code",
   "execution_count": 160,
   "metadata": {},
   "outputs": [],
   "source": [
    "def space_check(board, position):\n",
    "    if board[position-1] == '':\n",
    "        return True\n",
    "    else:\n",
    "        return False"
   ]
  },
  {
   "cell_type": "markdown",
   "metadata": {},
   "source": [
    "**Step 7: Write a function that checks if the board is full and returns a boolean value. True if full, False otherwise.**"
   ]
  },
  {
   "cell_type": "code",
   "execution_count": 161,
   "metadata": {},
   "outputs": [
    {
     "name": "stdout",
     "output_type": "stream",
     "text": [
      "X | $ | X\n",
      "---------\n",
      "O | X | O\n",
      "---------\n",
      "X | O | X\n"
     ]
    },
    {
     "data": {
      "text/plain": [
       "True"
      ]
     },
     "execution_count": 161,
     "metadata": {},
     "output_type": "execute_result"
    }
   ],
   "source": [
    "def full_board_check(board):\n",
    "    for i in range(len(board)):\n",
    "        if space_check(board,i):\n",
    "            return False\n",
    "    return True  \n",
    "    \n",
    "\n",
    "display_board(test_board) \n",
    "full_board_check(test_board)"
   ]
  },
  {
   "cell_type": "code",
   "execution_count": 96,
   "metadata": {},
   "outputs": [
    {
     "name": "stdout",
     "output_type": "stream",
     "text": [
      "X | $ | X\n",
      "---------\n",
      "X | X | O\n",
      "---------\n",
      "X | O | X\n",
      "9\n"
     ]
    },
    {
     "data": {
      "text/plain": [
       "True"
      ]
     },
     "execution_count": 96,
     "metadata": {},
     "output_type": "execute_result"
    }
   ],
   "source": [
    "def full_board_check(board):\n",
    "    fullflag = True\n",
    "    for i in range(len(board)):\n",
    "        while (fullflag):\n",
    "            if(board[i] == ''):\n",
    "                fullflag = False\n",
    "                break\n",
    "            else:\n",
    "                fullflag = True\n",
    "                break\n",
    "    return fullflag  \n",
    "    \n",
    "\n",
    "display_board(test_board) \n",
    "full_board_check(test_board)"
   ]
  },
  {
   "cell_type": "markdown",
   "metadata": {},
   "source": [
    "**Step 8: Write a function that asks for a player's next position (as a number 1-9) and then uses the function from step 6 to check if it's a free position. If it is, then return the position for later use.**"
   ]
  },
  {
   "cell_type": "code",
   "execution_count": 104,
   "metadata": {},
   "outputs": [
    {
     "name": "stdout",
     "output_type": "stream",
     "text": [
      "X | $ | X\n",
      "---------\n",
      " | X | O\n",
      "---------\n",
      "X | O | X\n",
      "Please Enter a valid position 1-9 :\t100\n",
      "\n",
      " Not a valid position.\n",
      "before space check\n",
      "Please Enter a valid position 1-9 :\t200\n",
      "\n",
      " Not a valid position.\n",
      "before space check\n",
      "Please Enter a valid position 1-9 :\t8\n",
      "before space check\n",
      "Position 8 is not free. Enter another position\n",
      "Please Enter a valid position 1-9 :\t5\n",
      "before space check\n",
      "Position 5 is not free. Enter another position\n",
      "Please Enter a valid position 1-9 :\t4\n",
      "before space check\n",
      "free position 4\n"
     ]
    },
    {
     "data": {
      "text/plain": [
       "4"
      ]
     },
     "execution_count": 104,
     "metadata": {},
     "output_type": "execute_result"
    }
   ],
   "source": [
    "def player_choice(board):\n",
    "    position=0\n",
    "    loop = True\n",
    "    while (loop):\n",
    "        position = int(input('Please Enter a valid position 1-9 :\\t'))\n",
    "        while( position not in range(1,10)):\n",
    "            print(\"\\n Not a valid position.\")\n",
    "            break\n",
    "            \n",
    "        print('before space check')\n",
    "        if (position in range(1,10)):\n",
    "            while (space_check(board,position) == False):\n",
    "                print(f'Position {position} is not free. Enter another position')\n",
    "                break\n",
    "        \n",
    "            if (space_check(board,position)):\n",
    "                print('free position', position)\n",
    "                loop=False\n",
    "                break\n",
    "            \n",
    "    \n",
    "            \n",
    "            \n",
    "    return position\n",
    "    \n",
    "display_board(test_board) \n",
    "player_choice(test_board)        "
   ]
  },
  {
   "cell_type": "code",
   "execution_count": 170,
   "metadata": {},
   "outputs": [],
   "source": [
    "def player_choice(board):\n",
    "    position=0\n",
    "    while ((position not in range(1,10)) or (not space_check(board,position))):\n",
    "        position = int(input('Please Enter a valid position 1-9 :\\t'))\n",
    "        \n",
    "    return position"
   ]
  },
  {
   "cell_type": "markdown",
   "metadata": {},
   "source": [
    "**Step 9: Write a function that asks the player if they want to play again and returns a boolean True if they do want to play again.**"
   ]
  },
  {
   "cell_type": "code",
   "execution_count": 164,
   "metadata": {},
   "outputs": [
    {
     "name": "stdout",
     "output_type": "stream",
     "text": [
      "\n",
      " Do you want to play again? 'Y' or 'N': \tN\n"
     ]
    },
    {
     "data": {
      "text/plain": [
       "False"
      ]
     },
     "execution_count": 164,
     "metadata": {},
     "output_type": "execute_result"
    }
   ],
   "source": [
    "def replay():\n",
    "    game_option=''\n",
    "    while(game_option != 'Y' or game_option != 'N'):\n",
    "        game_option = input(\"\\n Do you want to play again? 'Y' or 'N': \\t\")\n",
    "        if game_option.upper() == 'Y':\n",
    "            return True\n",
    "        elif game_option.upper() == 'N':\n",
    "            return False\n",
    "        else:\n",
    "            print(\"\\n Please enter a valid input 'Y' or 'N'\")\n",
    "            \n",
    "\n",
    "    return game_option\n",
    "\n",
    "replay()"
   ]
  },
  {
   "cell_type": "markdown",
   "metadata": {
    "collapsed": true
   },
   "source": [
    "**Step 10: Here comes the hard part! Use while loops and the functions you've made to run the game!**"
   ]
  },
  {
   "cell_type": "code",
   "execution_count": 171,
   "metadata": {},
   "outputs": [
    {
     "name": "stdout",
     "output_type": "stream",
     "text": [
      "Welcome to Tic Tac Toe!\n",
      " |  | \n",
      "---------\n",
      " |  | \n",
      "---------\n",
      " |  | \n",
      "Player 1: Enter your marker 'X' or 'O' : O\n",
      "Player 2 will play first\n",
      "Ready to play? Y or NY\n",
      " |  | \n",
      "---------\n",
      " |  | \n",
      "---------\n",
      " |  | \n",
      "Please Enter a valid position 1-9 :\t4\n",
      "X lost\n",
      " |  | \n",
      "---------\n",
      "X |  | \n",
      "---------\n",
      " |  | \n",
      "Please Enter a valid position 1-9 :\t5\n",
      "O lost\n",
      " |  | \n",
      "---------\n",
      "X | O | \n",
      "---------\n",
      " |  | \n",
      "Please Enter a valid position 1-9 :\t1\n",
      "X lost\n",
      " |  | \n",
      "---------\n",
      "X | O | \n",
      "---------\n",
      "X |  | \n",
      "Please Enter a valid position 1-9 :\t7\n",
      "O lost\n",
      "O |  | \n",
      "---------\n",
      "X | O | \n",
      "---------\n",
      "X |  | \n",
      "Please Enter a valid position 1-9 :\t8\n",
      "X lost\n",
      "O | X | \n",
      "---------\n",
      "X | O | \n",
      "---------\n",
      "X |  | \n",
      "Please Enter a valid position 1-9 :\t3\n",
      "O has Won\n",
      "O | X | \n",
      "---------\n",
      "X | O | \n",
      "---------\n",
      "X |  | O\n",
      "Player 1 WON\n",
      "\n",
      " Do you want to play again? 'Y' or 'N': \ty\n",
      " |  | \n",
      "---------\n",
      " |  | \n",
      "---------\n",
      " |  | \n",
      "Player 1: Enter your marker 'X' or 'O' : X\n",
      "Player 2 will play first\n",
      "Ready to play? Y or NN\n",
      "\n",
      " Do you want to play again? 'Y' or 'N': \tN\n"
     ]
    }
   ],
   "source": [
    "print('Welcome to Tic Tac Toe!')\n",
    "\n",
    "while True:\n",
    "    # Set the game up here\n",
    "    #pass\n",
    "    the_board = ['']*9\n",
    "    display_board(the_board)\n",
    "    player1_marker, player2_marker = player_input()\n",
    "    \n",
    "    turn = choose_first()\n",
    "    print(f'{turn} will play first')\n",
    "    \n",
    "    play_game = input(\"Ready to play? Y or N\")\n",
    "    if play_game == 'Y':\n",
    "        game_on= True\n",
    "    else:\n",
    "        game_on= False\n",
    "        \n",
    "    while(game_on):\n",
    "        #Player 1 Turn\n",
    "        if (turn == 'Player 1'):\n",
    "            #show board\n",
    "            display_board(the_board) \n",
    "            #let them choose position\n",
    "            position = player_choice(the_board)\n",
    "            #place marker on board            \n",
    "            place_marker(the_board, player1_marker, position)\n",
    "            #check if they won\n",
    "            if (win_check(the_board, player1_marker)):\n",
    "                display_board(the_board)\n",
    "                print(\"Player 1 WON\")\n",
    "                game_on=False\n",
    "            else:\n",
    "                if (full_board_check(the_board)):\n",
    "                    display_board(the_board)\n",
    "                    print(\"TIE Game\")\n",
    "                    game_on= False\n",
    "                    break\n",
    "                else:\n",
    "                    turn = 'Player 2'\n",
    "            # check tie\n",
    "            \n",
    "            #no tie no win then next turn\n",
    "        \n",
    "        \n",
    "        else:\n",
    "            #show board\n",
    "            display_board(the_board) \n",
    "            #let them choose position\n",
    "            position = player_choice(the_board)\n",
    "            #place marker on board            \n",
    "            place_marker(the_board, player2_marker, position)\n",
    "            #check if they won\n",
    "            if (win_check(the_board, player2_marker)):\n",
    "                display_board(the_board)\n",
    "                print(\"Player 2 WON\")\n",
    "                game_on=False\n",
    "            else:\n",
    "                if (full_board_check(the_board)):\n",
    "                    display_board(the_board)\n",
    "                    print(\"TIE Game\")\n",
    "                    game_on= False\n",
    "                    break\n",
    "                else:\n",
    "                    turn = 'Player 1'\n",
    "            \n",
    "\n",
    "\n",
    "    if not replay():\n",
    "        break"
   ]
  },
  {
   "cell_type": "markdown",
   "metadata": {
    "collapsed": true
   },
   "source": [
    "## Good Job!"
   ]
  }
 ],
 "metadata": {
  "kernelspec": {
   "display_name": "Python 3",
   "language": "python",
   "name": "python3"
  },
  "language_info": {
   "codemirror_mode": {
    "name": "ipython",
    "version": 3
   },
   "file_extension": ".py",
   "mimetype": "text/x-python",
   "name": "python",
   "nbconvert_exporter": "python",
   "pygments_lexer": "ipython3",
   "version": "3.6.9"
  }
 },
 "nbformat": 4,
 "nbformat_minor": 1
}
